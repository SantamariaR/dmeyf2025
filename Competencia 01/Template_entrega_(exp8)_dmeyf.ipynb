{
  "cells": [
    {
      "cell_type": "markdown",
      "metadata": {
        "id": "0cEmzeUKFkPh"
      },
      "source": [
        "# Tarea para el Hogar 04"
      ]
    },
    {
      "cell_type": "code",
      "execution_count": null,
      "metadata": {
        "id": "NufGab8ixNsn"
      },
      "outputs": [],
      "source": [
        "# Buscar cuales son los hiperparámetros que tienen mayor relevancia en el modelo LightGBM"
      ]
    },
    {
      "cell_type": "markdown",
      "metadata": {
        "id": "DenyKXkiJ5JN"
      },
      "source": [
        "##  1. Big Picture"
      ]
    },
    {
      "cell_type": "markdown",
      "metadata": {
        "id": "l-K2_ZsZGrVD"
      },
      "source": [
        "LightGBM es el algoritmo estado del arte para datasets estructurados.\n",
        "<br> La Bayesian Optimization es el estado del arte para optimización de hiperparámetros\n",
        "<br> Las soluciones a las tres competencias de la asignatura contendrán LightGBMs y Bayesian Optimizations\n",
        "<br> LightGBM ha aumentado en forma no darwiniana sus hiperparámetros en los últimos ocho años; no todos los existentes son útiles.\n",
        "<br> Es necesario lograr entender cuales son los hiperparámetros relevantes de LightGBM"
      ]
    },
    {
      "cell_type": "markdown",
      "metadata": {
        "id": "K9GkTOk5J9t3"
      },
      "source": [
        "## 2. Hiperparámetros del LightGBM"
      ]
    },
    {
      "cell_type": "markdown",
      "metadata": {
        "id": "VmEFy0ukKL5T"
      },
      "source": [
        "Los objetivos de esta tarea son:\n",
        "\n",
        "\n",
        "*   Aumentar la rentabilidad de la campaña de marketing de retención proactiva de clientes.\n",
        "*   Generar un mejor modelo optimizando sus hiperparámetros\n",
        "*   Conceptual : investigar los mas relevantes hiperparámetros de LightGBM\n",
        "*   Familiarizarse con la Bayesian Optimization, sus largos tiempos de corrida y opciones para reducirlos\n",
        "*   Familiarizarse con el uso de máquinas virtuales de Google Colab\n",
        "*   Ver un pipeline completo de optimización de hiperparámetros y puesta en producción"
      ]
    },
    {
      "cell_type": "markdown",
      "metadata": {
        "id": "5yvlS6JQLRMd"
      },
      "source": [
        "LightGBM cuenta con mas de 60 hiperparámetros, siendo posible utilizar 40 al mismo tiempo, aunque no razonable.\n",
        "<br> La documentación oficial de los hiperparámetros de LightGBM es  https://lightgbm.readthedocs.io/en/latest/Parameters.html#core-parameters\n"
      ]
    },
    {
      "cell_type": "markdown",
      "metadata": {
        "id": "eydI4YNAsFaf"
      },
      "source": [
        "Se lo alerta sobre que una Optimizacion Bayesiana lleva varias horas de corrida, y usted deberá correr VARIAS optimizaciones para descubrir cuales parámetros conviene optimizar.\n",
        "<br> A pesar que la próxima clase es recien en viernes 01 de agosto, inicie la tarea con tiempo, aprenda a planificar estratégicamente sus corridas como un@ científ@  de datos."
      ]
    },
    {
      "cell_type": "markdown",
      "metadata": {
        "id": "RzU4S0SeMcpp"
      },
      "source": [
        "Es necesario investigar cuales son los hiperparámetros de LightGBM que vale la pena optimizar en una Bayesian Optimization, ya que los realmente utiles son apenas un reducido subconjunto.\n",
        "<br>Usted deberá investigar cuales son los hiperparámetros mas relevantes de LightGBM, su primer alternativa es preguntándole a su amigo con capacidades especiales ChatGPT o sus endogámicos familiares Claude, DeepSeek, Gemini, Grok, etc\n",
        "<br> La segunda alternativa es la propia documentación de LightGBM  https://lightgbm.readthedocs.io/en/latest/Parameters-Tuning.html\n"
      ]
    },
    {
      "cell_type": "markdown",
      "metadata": {
        "id": "LNptUgI_NWWG"
      },
      "source": [
        "Adicionalmente podra buscar información como la que proveen esta diminuta muestra aleatoria de artículos ligeros:\n",
        "*  https://medium.com/@sarahzouinina/a-deep-dive-into-lightgbm-how-to-choose-and-tune-parameters-7c584945842e\n",
        "*  https://www.kaggle.com/code/somang1418/tuning-hyperparameters-under-10-minutes-lgbm\n",
        "*  https://towardsdatascience.com/beginners-guide-to-the-must-know-lightgbm-hyperparameters-a0005a812702/\n",
        "\n",
        "\n",
        "<br>  La muestra anterior se brinda a modo de ejemplo, usted deberá buscar muuuuchas  fuentes adicionales de información\n",
        "<br> Tenga presente que LightGBM es el estado del arte en modelado predictivo para datasets estructurado, que son el 90% del trabajo del 95% de los Data Scientists en Argentina."
      ]
    },
    {
      "cell_type": "markdown",
      "metadata": {
        "id": "WpUThBojODyK"
      },
      "source": [
        "El desafío de esta tarea es:\n",
        "* Qué hiperparparámetros conviene optimizar?  Las recomendaciones de los artículos ligeros es siempre sensata?  Sus autores realmente hicieron experimentos o son siemplemente escritores de entretenimiento carente de base científica?\n",
        "* Elegidos los hiperparámetros, cual es el  <desde, hasta> que se debe utilizar en la Bayesian Optimization ?\n",
        "* Realmente vale la pena optimizar 10 o 16 hiperparámetros al mismo tiempo ?  No resulta contraproducente una búsqueda en un espacio de tal alta dimensionalidad ?"
      ]
    },
    {
      "cell_type": "markdown",
      "metadata": {
        "id": "PX0qg_c0yqob"
      },
      "source": [
        "#### 2.1  Seteo del ambiente en Google Colab"
      ]
    },
    {
      "cell_type": "markdown",
      "metadata": {
        "id": "NGY7H9xza7Zr"
      },
      "source": [
        "Esta parte se debe correr con el runtime en Python3\n",
        "<br>Ir al menu, Runtime -> Change Runtime Type -> Runtime type ->  **Python 3**"
      ]
    },
    {
      "cell_type": "markdown",
      "metadata": {
        "id": "7PupIBNba7Zr"
      },
      "source": [
        "Conectar la virtual machine donde esta corriendo Google Colab con el  Google Drive, para poder tener persistencia de archivos"
      ]
    },
    {
      "cell_type": "code",
      "execution_count": null,
      "metadata": {
        "colab": {
          "base_uri": "https://localhost:8080/"
        },
        "id": "9LpZCst5a7Zs",
        "outputId": "bc940cab-d765-4ca4-b215-05d36ba874ea"
      },
      "outputs": [
        {
          "name": "stdout",
          "output_type": "stream",
          "text": [
            "Mounted at /content/.drive\n"
          ]
        }
      ],
      "source": [
        "# primero establecer el Runtime de Python 3\n",
        "# from google.colab import drive\n",
        "# drive.mount('/content/.drive')"
      ]
    },
    {
      "cell_type": "markdown",
      "metadata": {
        "id": "JYC_F-wla7Zs"
      },
      "source": [
        "Para correr la siguiente celda es fundamental en Arranque en Frio haber copiado el archivo kaggle.json al Google Drive, en la carpeta indicada en el instructivo\n",
        "\n",
        "<br>los siguientes comando estan en shell script de Linux\n",
        "*   Crear las carpetas en el Google Drive\n",
        "*   \"instalar\" el archivo kaggle.json desde el Google Drive a la virtual machine para que pueda ser utilizado por la libreria  kaggle de Python\n",
        "*   Bajar el  **dataset_pequeno**  al  Google Drive  y tambien al disco local de la virtual machine que esta corriendo Google Colab\n",
        "\n"
      ]
    },
    {
      "cell_type": "code",
      "execution_count": null,
      "metadata": {
        "colab": {
          "base_uri": "https://localhost:8080/"
        },
        "id": "XWLelftXa7Zt",
        "outputId": "d663a244-37d4-4939-eb1a-bba2bb27a145"
      },
      "outputs": [
        {
          "data": {
            "text/plain": []
          },
          "execution_count": 2,
          "metadata": {},
          "output_type": "execute_result"
        }
      ],
      "source": [
        "# %%shell\n",
        "\n",
        "# mkdir -p \"/content/.drive/My Drive/dmeyf\"\n",
        "# mkdir -p \"/content/buckets\"\n",
        "# ln -s \"/content/.drive/My Drive/dmeyf\" /content/buckets/b1\n",
        "\n",
        "\n",
        "# mkdir -p /content/buckets/b1/exp\n",
        "# mkdir -p /content/buckets/b1/datasets\n",
        "# mkdir -p /content/datasets\n",
        "\n",
        "\n",
        "\n",
        "# archivo_origen=\"https://storage.googleapis.com/open-courses/dmeyf2025-e4a2/competencia_01_crudo.csv\"\n",
        "# archivo_destino=\"/content/datasets/competencia_01_crudo.csv\"\n",
        "# archivo_destino_bucket=\"/content/buckets/b1/datasets/competencia_01_crudo.csv\"\n",
        "\n",
        "# if ! test -f $archivo_destino_bucket; then\n",
        "#   wget  $archivo_origen  -O $archivo_destino_bucket\n",
        "# fi\n",
        "\n",
        "\n",
        "# if ! test -f $archivo_destino; then\n",
        "#   cp  $archivo_destino_bucket  $archivo_destino\n",
        "# fi\n"
      ]
    },
    {
      "cell_type": "markdown",
      "metadata": {
        "id": "dseB4qb9RqUb"
      },
      "source": [
        "## Generacion de la clase_ternaria"
      ]
    },
    {
      "cell_type": "markdown",
      "metadata": {
        "id": "LCEnE_02RuIQ"
      },
      "source": [
        "Esta parte se debe correr con el runtime en lenguaje **R** Ir al menu, Runtime -> Change Runtime Tipe -> Runtime type -> R"
      ]
    },
    {
      "cell_type": "code",
      "execution_count": null,
      "metadata": {
        "colab": {
          "base_uri": "https://localhost:8080/"
        },
        "id": "P863YZB9R1Ua",
        "outputId": "d0f4fce9-b1db-429a-aad6-b34bab934cd2"
      },
      "outputs": [
        {
          "name": "stderr",
          "output_type": "stream",
          "text": [
            "Loading required package: data.table\n",
            "\n"
          ]
        }
      ],
      "source": [
        "require( \"data.table\" )\n",
        "\n",
        "# leo el dataset\n",
        "dataset <- fread(\"/content/datasets/competencia_01_crudo.csv\" )\n",
        "\n",
        "# calculo el periodo0 consecutivo\n",
        "dsimple <- dataset[, list(\n",
        "    \"pos\" = .I,\n",
        "    numero_de_cliente,\n",
        "    periodo0 = as.integer(foto_mes/100)*12 +  foto_mes%%100 ) ]\n",
        "\n",
        "\n",
        "# ordeno\n",
        "setorder( dsimple, numero_de_cliente, periodo0 )\n",
        "\n",
        "# calculo topes\n",
        "periodo_ultimo <- dsimple[, max(periodo0) ]\n",
        "periodo_anteultimo <- periodo_ultimo - 1\n",
        "\n",
        "\n",
        "# calculo los leads de orden 1 y 2\n",
        "dsimple[, c(\"periodo1\", \"periodo2\") :=\n",
        "    shift(periodo0, n=1:2, fill=NA, type=\"lead\"),  numero_de_cliente ]\n",
        "\n",
        "# assign most common class values = \"CONTINUA\"\n",
        "dsimple[ periodo0 < periodo_anteultimo, clase_ternaria := \"CONTINUA\" ]\n",
        "\n",
        "# calculo BAJA+1\n",
        "dsimple[ periodo0 < periodo_ultimo &\n",
        "    ( is.na(periodo1) | periodo0 + 1 < periodo1 ),\n",
        "    clase_ternaria := \"BAJA+1\" ]\n",
        "\n",
        "# calculo BAJA+2\n",
        "dsimple[ periodo0 < periodo_anteultimo & (periodo0+1 == periodo1 )\n",
        "    & ( is.na(periodo2) | periodo0 + 2 < periodo2 ),\n",
        "    clase_ternaria := \"BAJA+2\" ]\n",
        "\n",
        "\n",
        "# pego el resultado en el dataset original y grabo\n",
        "setorder( dsimple, pos )\n",
        "dataset[, clase_ternaria := dsimple$clase_ternaria ]\n",
        "\n",
        "fwrite( dataset,\n",
        "    file =  \"/content/datasets/competencia_01.csv.gz\",\n",
        "    sep = \",\"\n",
        ")"
      ]
    },
    {
      "cell_type": "code",
      "execution_count": null,
      "metadata": {
        "colab": {
          "base_uri": "https://localhost:8080/",
          "height": 569
        },
        "id": "S3hL7tv8W4rn",
        "outputId": "0337dad4-5e60-404d-b3bb-29367fd73faa"
      },
      "outputs": [
        {
          "data": {
            "text/html": [
              "<table class=\"dataframe\">\n",
              "<caption>A data.table: 15 × 3</caption>\n",
              "<thead>\n",
              "\t<tr><th scope=col>foto_mes</th><th scope=col>clase_ternaria</th><th scope=col>N</th></tr>\n",
              "\t<tr><th scope=col>&lt;int&gt;</th><th scope=col>&lt;chr&gt;</th><th scope=col>&lt;int&gt;</th></tr>\n",
              "</thead>\n",
              "<tbody>\n",
              "\t<tr><td>202101</td><td>BAJA+1  </td><td>   622</td></tr>\n",
              "\t<tr><td>202101</td><td>BAJA+2  </td><td>   825</td></tr>\n",
              "\t<tr><td>202101</td><td>CONTINUA</td><td>160080</td></tr>\n",
              "\t<tr><td>202102</td><td>BAJA+1  </td><td>   831</td></tr>\n",
              "\t<tr><td>202102</td><td>BAJA+2  </td><td>  1032</td></tr>\n",
              "\t<tr><td>202102</td><td>CONTINUA</td><td>160292</td></tr>\n",
              "\t<tr><td>202103</td><td>BAJA+1  </td><td>  1039</td></tr>\n",
              "\t<tr><td>202103</td><td>BAJA+2  </td><td>   951</td></tr>\n",
              "\t<tr><td>202103</td><td>CONTINUA</td><td>161119</td></tr>\n",
              "\t<tr><td>202104</td><td>BAJA+1  </td><td>   955</td></tr>\n",
              "\t<tr><td>202104</td><td>BAJA+2  </td><td>  1130</td></tr>\n",
              "\t<tr><td>202104</td><td>CONTINUA</td><td>161333</td></tr>\n",
              "\t<tr><td>202105</td><td>NA      </td><td>162783</td></tr>\n",
              "\t<tr><td>202105</td><td>BAJA+1  </td><td>  1134</td></tr>\n",
              "\t<tr><td>202106</td><td>NA      </td><td>164313</td></tr>\n",
              "</tbody>\n",
              "</table>\n"
            ],
            "text/latex": [
              "A data.table: 15 × 3\n",
              "\\begin{tabular}{lll}\n",
              " foto\\_mes & clase\\_ternaria & N\\\\\n",
              " <int> & <chr> & <int>\\\\\n",
              "\\hline\n",
              "\t 202101 & BAJA+1   &    622\\\\\n",
              "\t 202101 & BAJA+2   &    825\\\\\n",
              "\t 202101 & CONTINUA & 160080\\\\\n",
              "\t 202102 & BAJA+1   &    831\\\\\n",
              "\t 202102 & BAJA+2   &   1032\\\\\n",
              "\t 202102 & CONTINUA & 160292\\\\\n",
              "\t 202103 & BAJA+1   &   1039\\\\\n",
              "\t 202103 & BAJA+2   &    951\\\\\n",
              "\t 202103 & CONTINUA & 161119\\\\\n",
              "\t 202104 & BAJA+1   &    955\\\\\n",
              "\t 202104 & BAJA+2   &   1130\\\\\n",
              "\t 202104 & CONTINUA & 161333\\\\\n",
              "\t 202105 & NA       & 162783\\\\\n",
              "\t 202105 & BAJA+1   &   1134\\\\\n",
              "\t 202106 & NA       & 164313\\\\\n",
              "\\end{tabular}\n"
            ],
            "text/markdown": [
              "\n",
              "A data.table: 15 × 3\n",
              "\n",
              "| foto_mes &lt;int&gt; | clase_ternaria &lt;chr&gt; | N &lt;int&gt; |\n",
              "|---|---|---|\n",
              "| 202101 | BAJA+1   |    622 |\n",
              "| 202101 | BAJA+2   |    825 |\n",
              "| 202101 | CONTINUA | 160080 |\n",
              "| 202102 | BAJA+1   |    831 |\n",
              "| 202102 | BAJA+2   |   1032 |\n",
              "| 202102 | CONTINUA | 160292 |\n",
              "| 202103 | BAJA+1   |   1039 |\n",
              "| 202103 | BAJA+2   |    951 |\n",
              "| 202103 | CONTINUA | 161119 |\n",
              "| 202104 | BAJA+1   |    955 |\n",
              "| 202104 | BAJA+2   |   1130 |\n",
              "| 202104 | CONTINUA | 161333 |\n",
              "| 202105 | NA       | 162783 |\n",
              "| 202105 | BAJA+1   |   1134 |\n",
              "| 202106 | NA       | 164313 |\n",
              "\n"
            ],
            "text/plain": [
              "   foto_mes clase_ternaria N     \n",
              "1  202101   BAJA+1            622\n",
              "2  202101   BAJA+2            825\n",
              "3  202101   CONTINUA       160080\n",
              "4  202102   BAJA+1            831\n",
              "5  202102   BAJA+2           1032\n",
              "6  202102   CONTINUA       160292\n",
              "7  202103   BAJA+1           1039\n",
              "8  202103   BAJA+2            951\n",
              "9  202103   CONTINUA       161119\n",
              "10 202104   BAJA+1            955\n",
              "11 202104   BAJA+2           1130\n",
              "12 202104   CONTINUA       161333\n",
              "13 202105   NA             162783\n",
              "14 202105   BAJA+1           1134\n",
              "15 202106   NA             164313"
            ]
          },
          "metadata": {},
          "output_type": "display_data"
        }
      ],
      "source": [
        "setorder( dataset, foto_mes, clase_ternaria, numero_de_cliente)\n",
        "dataset[, .N, list(foto_mes, clase_ternaria)]"
      ]
    },
    {
      "cell_type": "markdown",
      "metadata": {
        "id": "oSKhZRToy2F7"
      },
      "source": [
        "### 2.2 Optimizacion Hiperparámetros"
      ]
    },
    {
      "cell_type": "markdown",
      "metadata": {
        "id": "2kwPpHAtSmix"
      },
      "source": [
        "Esta parte se debe correr con el runtime en lenguaje R Ir al menu, Runtime -> Change Runtime Type -> Runtime type -> R"
      ]
    },
    {
      "cell_type": "markdown",
      "metadata": {
        "id": "xp4-Bj3aYI8d"
      },
      "source": [
        "### 2.2.1 Inicio"
      ]
    },
    {
      "cell_type": "markdown",
      "metadata": {
        "id": "zy8YTZfESxeJ"
      },
      "source": [
        "limpio el ambiente de R"
      ]
    },
    {
      "cell_type": "code",
      "execution_count": null,
      "metadata": {
        "colab": {
          "base_uri": "https://localhost:8080/",
          "height": 34
        },
        "id": "gBq__iAdQliq",
        "outputId": "a228fb74-d151-40e7-82ee-adf2e4067382"
      },
      "outputs": [
        {
          "data": {
            "text/html": [
              "'Fri Oct 10 13:04:38 2025'"
            ],
            "text/latex": [
              "'Fri Oct 10 13:04:38 2025'"
            ],
            "text/markdown": [
              "'Fri Oct 10 13:04:38 2025'"
            ],
            "text/plain": [
              "[1] \"Fri Oct 10 13:04:38 2025\""
            ]
          },
          "metadata": {},
          "output_type": "display_data"
        }
      ],
      "source": [
        "format(Sys.time(), \"%a %b %d %X %Y\")"
      ]
    },
    {
      "cell_type": "code",
      "execution_count": null,
      "metadata": {
        "colab": {
          "base_uri": "https://localhost:8080/",
          "height": 129
        },
        "id": "7rdVrBojS1IV",
        "outputId": "d6e3eb2c-4d44-48ab-f537-0247d0cbbbfa"
      },
      "outputs": [
        {
          "data": {
            "text/html": [
              "<table class=\"dataframe\">\n",
              "<caption>A matrix: 2 × 6 of type dbl</caption>\n",
              "<thead>\n",
              "\t<tr><th></th><th scope=col>used</th><th scope=col>(Mb)</th><th scope=col>gc trigger</th><th scope=col>(Mb)</th><th scope=col>max used</th><th scope=col>(Mb)</th></tr>\n",
              "</thead>\n",
              "<tbody>\n",
              "\t<tr><th scope=row>Ncells</th><td> 725960</td><td>38.8</td><td>  1454648</td><td>  77.7</td><td>  1454648</td><td>  77.7</td></tr>\n",
              "\t<tr><th scope=row>Vcells</th><td>1423187</td><td>10.9</td><td>169514367</td><td>1293.3</td><td>211568385</td><td>1614.2</td></tr>\n",
              "</tbody>\n",
              "</table>\n"
            ],
            "text/latex": [
              "A matrix: 2 × 6 of type dbl\n",
              "\\begin{tabular}{r|llllll}\n",
              "  & used & (Mb) & gc trigger & (Mb) & max used & (Mb)\\\\\n",
              "\\hline\n",
              "\tNcells &  725960 & 38.8 &   1454648 &   77.7 &   1454648 &   77.7\\\\\n",
              "\tVcells & 1423187 & 10.9 & 169514367 & 1293.3 & 211568385 & 1614.2\\\\\n",
              "\\end{tabular}\n"
            ],
            "text/markdown": [
              "\n",
              "A matrix: 2 × 6 of type dbl\n",
              "\n",
              "| <!--/--> | used | (Mb) | gc trigger | (Mb) | max used | (Mb) |\n",
              "|---|---|---|---|---|---|---|\n",
              "| Ncells |  725960 | 38.8 |   1454648 |   77.7 |   1454648 |   77.7 |\n",
              "| Vcells | 1423187 | 10.9 | 169514367 | 1293.3 | 211568385 | 1614.2 |\n",
              "\n"
            ],
            "text/plain": [
              "       used    (Mb) gc trigger (Mb)   max used  (Mb)  \n",
              "Ncells  725960 38.8   1454648    77.7   1454648   77.7\n",
              "Vcells 1423187 10.9 169514367  1293.3 211568385 1614.2"
            ]
          },
          "metadata": {},
          "output_type": "display_data"
        }
      ],
      "source": [
        "# limpio la memoria\n",
        "rm(list=ls(all.names=TRUE)) # remove all objects\n",
        "gc(full=TRUE, verbose=FALSE) # garbage collection"
      ]
    },
    {
      "cell_type": "markdown",
      "metadata": {
        "id": "kuPfQ7ksjwW3"
      },
      "source": [
        "### 2.2.2 Carga de Librerias"
      ]
    },
    {
      "cell_type": "markdown",
      "metadata": {
        "id": "B8BaSFlGfvma"
      },
      "source": [
        "Esta parte lleva varios minutos la primera vez en Google Colab"
      ]
    },
    {
      "cell_type": "code",
      "execution_count": null,
      "metadata": {
        "colab": {
          "base_uri": "https://localhost:8080/"
        },
        "id": "lVyxLaJ1j1J_",
        "outputId": "7bc01b46-4163-4cdb-ea74-7635d8ea9ff2"
      },
      "outputs": [
        {
          "name": "stderr",
          "output_type": "stream",
          "text": [
            "Loading required package: parallel\n",
            "\n",
            "Loading required package: R.utils\n",
            "\n",
            "Loading required package: R.oo\n",
            "\n",
            "Loading required package: R.methodsS3\n",
            "\n",
            "R.methodsS3 v1.8.2 (2022-06-13 22:00:14 UTC) successfully loaded. See ?R.methodsS3 for help.\n",
            "\n",
            "R.oo v1.27.1 (2025-05-02 21:00:05 UTC) successfully loaded. See ?R.oo for help.\n",
            "\n",
            "\n",
            "Attaching package: ‘R.oo’\n",
            "\n",
            "\n",
            "The following object is masked from ‘package:R.methodsS3’:\n",
            "\n",
            "    throw\n",
            "\n",
            "\n",
            "The following objects are masked from ‘package:methods’:\n",
            "\n",
            "    getClasses, getMethods\n",
            "\n",
            "\n",
            "The following objects are masked from ‘package:base’:\n",
            "\n",
            "    attach, detach, load, save\n",
            "\n",
            "\n",
            "R.utils v2.13.0 (2025-02-24 21:20:02 UTC) successfully loaded. See ?R.utils for help.\n",
            "\n",
            "\n",
            "Attaching package: ‘R.utils’\n",
            "\n",
            "\n",
            "The following object is masked from ‘package:utils’:\n",
            "\n",
            "    timestamp\n",
            "\n",
            "\n",
            "The following objects are masked from ‘package:base’:\n",
            "\n",
            "    cat, commandArgs, getOption, isOpen, nullfile, parse, use, warnings\n",
            "\n",
            "\n",
            "Loading required package: primes\n",
            "\n",
            "Loading required package: rlist\n",
            "\n",
            "Loading required package: yaml\n",
            "\n",
            "Loading required package: lightgbm\n",
            "\n",
            "Loading required package: DiceKriging\n",
            "\n",
            "Loading required package: mlrMBO\n",
            "\n",
            "Loading required package: mlr\n",
            "\n",
            "Loading required package: ParamHelpers\n",
            "\n",
            "\n",
            "Attaching package: ‘ParamHelpers’\n",
            "\n",
            "\n",
            "The following object is masked from ‘package:R.utils’:\n",
            "\n",
            "    isVector\n",
            "\n",
            "\n",
            "\n",
            "Attaching package: ‘mlr’\n",
            "\n",
            "\n",
            "The following objects are masked from ‘package:R.utils’:\n",
            "\n",
            "    resample, setThreshold\n",
            "\n",
            "\n",
            "Loading required package: smoof\n",
            "\n",
            "Loading required package: checkmate\n",
            "\n",
            "\n",
            "Attaching package: ‘checkmate’\n",
            "\n",
            "\n",
            "The following object is masked from ‘package:DiceKriging’:\n",
            "\n",
            "    checkNames\n",
            "\n",
            "\n",
            "The following object is masked from ‘package:R.utils’:\n",
            "\n",
            "    asInt\n",
            "\n",
            "\n",
            "\n",
            "Attaching package: ‘smoof’\n",
            "\n",
            "\n",
            "The following objects are masked from ‘package:R.oo’:\n",
            "\n",
            "    getDescription, getName\n",
            "\n",
            "\n"
          ]
        }
      ],
      "source": [
        "# cargo las librerias que necesito\n",
        "require(\"data.table\")\n",
        "require(\"parallel\")\n",
        "\n",
        "if(!require(\"R.utils\")) install.packages(\"R.utils\")\n",
        "require(\"R.utils\")\n",
        "\n",
        "if( !require(\"primes\") ) install.packages(\"primes\")\n",
        "require(\"primes\")\n",
        "\n",
        "if( !require(\"utils\") ) install.packages(\"utils\")\n",
        "require(\"utils\")\n",
        "\n",
        "if( !require(\"rlist\") ) install.packages(\"rlist\")\n",
        "require(\"rlist\")\n",
        "\n",
        "if( !require(\"yaml\")) install.packages(\"yaml\")\n",
        "require(\"yaml\")\n",
        "\n",
        "if( !require(\"lightgbm\") ) install.packages(\"lightgbm\")\n",
        "require(\"lightgbm\")\n",
        "\n",
        "if( !require(\"DiceKriging\") ) install.packages(\"DiceKriging\")\n",
        "require(\"DiceKriging\")\n",
        "\n",
        "if( !require(\"mlrMBO\") ) install.packages(\"mlrMBO\")\n",
        "require(\"mlrMBO\")"
      ]
    },
    {
      "cell_type": "markdown",
      "metadata": {
        "id": "Iz-6Qt6BUaA3"
      },
      "source": [
        "### 2.2.3 Definicion de Parametros"
      ]
    },
    {
      "cell_type": "markdown",
      "metadata": {
        "id": "cOdlKd7lUm2I"
      },
      "source": [
        "aqui debe cargar SU semilla primigenia\n",
        "<br>recuerde cambiar el numero de experimento en cada corrida nueva"
      ]
    },
    {
      "cell_type": "code",
      "execution_count": null,
      "metadata": {
        "id": "ASYkebOu2mF6"
      },
      "outputs": [],
      "source": [
        "PARAM <- list()\n",
        "PARAM$experimento <- 0008\n",
        "PARAM$semilla_primigenia <- 143287"
      ]
    },
    {
      "cell_type": "code",
      "execution_count": null,
      "metadata": {
        "id": "ezOhQdbA293o"
      },
      "outputs": [],
      "source": [
        "# training y future\n",
        "PARAM$train <- c(202101,202102,202103)\n",
        "PARAM$train_final <- c(202101,202102,202103)\n",
        "PARAM$future <- c(202104)\n",
        "PARAM$semilla_kaggle <- 314159\n",
        "PARAM$cortes <- seq(6000, 19000, by= 500)"
      ]
    },
    {
      "cell_type": "code",
      "execution_count": null,
      "metadata": {
        "id": "jtB0Lub42rHO"
      },
      "outputs": [],
      "source": [
        "# un undersampling de 0.1  toma solo el 10% de los CONTINUA\n",
        "# undersampling de 1.0  implica tomar TODOS los datos\n",
        "\n",
        "PARAM$trainingstrategy$undersampling <- 0.1"
      ]
    },
    {
      "cell_type": "code",
      "execution_count": null,
      "metadata": {
        "id": "OFxm-xiNUOJX"
      },
      "outputs": [],
      "source": [
        "# Parametros LightGBM\n",
        "\n",
        "PARAM$hyperparametertuning$xval_folds <- 5\n",
        "\n",
        "# parametros fijos del LightGBM que se pisaran con la parte variable de la BO\n",
        "PARAM$lgbm$param_fijos <-  list(\n",
        "  boosting= \"dart\", # puede ir  dart  , ni pruebe random_forest\n",
        "  objective= \"binary\",\n",
        "  metric= \"auc\",\n",
        "  first_metric_only= FALSE,\n",
        "  boost_from_average= TRUE,\n",
        "  feature_pre_filter= FALSE,\n",
        "  force_row_wise= TRUE, # para reducir warnings\n",
        "  verbosity= -100,\n",
        "\n",
        "  seed= PARAM$semilla_primigenia,\n",
        "\n",
        "  max_depth= -1L, # -1 significa no limitar,  por ahora lo dejo fijo\n",
        "  min_gain_to_split= 0, # min_gain_to_split >= 0\n",
        "  min_sum_hessian_in_leaf= 0.001, #  min_sum_hessian_in_leaf >= 0.0\n",
        "  lambda_l1= 0.0, # lambda_l1 >= 0.0\n",
        "  lambda_l2= 0.0, # lambda_l2 >= 0.0\n",
        "  max_bin= 31L, # lo debo dejar fijo, no participa de la BO\n",
        "\n",
        "  bagging_fraction= 1.0, # 0.0 < bagging_fraction <= 1.0\n",
        "  pos_bagging_fraction= 1.0, # 0.0 < pos_bagging_fraction <= 1.0\n",
        "  neg_bagging_fraction= 1.0, # 0.0 < neg_bagging_fraction <= 1.0\n",
        "  is_unbalance= FALSE, #\n",
        "  scale_pos_weight= 1.0, # scale_pos_weight > 0.0\n",
        "\n",
        "  drop_rate= 0.1, # 0.0 < neg_bagging_fraction <= 1.0\n",
        "  max_drop= 50, # <=0 means no limit\n",
        "  skip_drop= 0.5, # 0.0 <= skip_drop <= 1.0\n",
        "\n",
        "  extra_trees= FALSE,\n",
        "\n",
        "  num_iterations= 3307,\n",
        "  learning_rate= 0.002487688,\n",
        "  feature_fraction= 0.574054,\n",
        "  num_leaves= 47,\n",
        "  min_data_in_leaf= 1697\n",
        ")\n"
      ]
    },
    {
      "cell_type": "markdown",
      "metadata": {
        "id": "D5Yj-JV4yvOt"
      },
      "source": [
        "Aqui se definen los hiperparámetros de LightGBM que participan de la Bayesian Optimization\n",
        "<br> si es un numero entero debe ir  makeIntegerParam\n",
        "<br> si es un numero real (con decimales) debe ir  makeNumericParam\n",
        "<br> es muy importante leer cuales son un lower y upper  permitidos y ademas razonables"
      ]
    },
    {
      "cell_type": "markdown",
      "metadata": {
        "id": "FahmbInFU34p"
      },
      "source": [
        "# Experimento 1(4940):\n",
        "![image.png](data:image/png;base64,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)\n",
        "\n",
        "\n",
        "![image.png](data:image/png;base64,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)"
      ]
    },
    {
      "cell_type": "markdown",
      "metadata": {
        "id": "jkW5nAQIxb40"
      },
      "source": [
        "# Experimento 2(4941):\n",
        "![image.png](data:image/png;base64,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)\n",
        "\n",
        "![image.png](data:image/png;base64,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)"
      ]
    },
    {
      "cell_type": "markdown",
      "metadata": {
        "id": "6k2aB6hjyP9D"
      },
      "source": [
        "# Experimento 3(4942):\n",
        "\n",
        "![image.png](data:image/png;base64,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)\n",
        "\n",
        "![image.png](data:image/png;base64,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)\n"
      ]
    },
    {
      "cell_type": "markdown",
      "metadata": {
        "id": "SCmL8skrojq2"
      },
      "source": [
        "# Experiento 4(4943):"
      ]
    },
    {
      "cell_type": "markdown",
      "metadata": {
        "id": "_nzU4cTMWWX9"
      },
      "source": [
        "#-"
      ]
    },
    {
      "cell_type": "code",
      "execution_count": null,
      "metadata": {
        "id": "jENpR26ZyuS8"
      },
      "outputs": [],
      "source": [
        "# Aqui se cargan los bordes de los hiperparametros de la BO\n",
        "PARAM$hypeparametertuning$hs <- makeParamSet(\n",
        "  makeIntegerParam(\"num_iterations\", lower= 2048L, upper= 4096L), #L indica que son enteros\n",
        "  makeNumericParam(\"learning_rate\", lower= 0.002, upper= 0.2),\n",
        "  makeNumericParam(\"feature_fraction\", lower= 0.2, upper= 0.8),\n",
        "  makeIntegerParam(\"num_leaves\", lower= 2L, upper= 64L),\n",
        "  makeIntegerParam(\"min_data_in_leaf\", lower= 1L, upper= 2048L)\n",
        ")"
      ]
    },
    {
      "cell_type": "markdown",
      "metadata": {
        "id": "-_RPFUb3zMoW"
      },
      "source": [
        "A mayor cantidad de hiperparámetros, se debe aumentar las iteraciones de la Bayesian Optimization\n",
        "<br> 30 es un valor muy tacaño, pero corre rápido\n",
        "<br> deberia partir de 50, alcanzando los 100 si se dispone de tiempo"
      ]
    },
    {
      "cell_type": "code",
      "execution_count": null,
      "metadata": {
        "id": "q5Rd3pnbzSiG"
      },
      "outputs": [],
      "source": [
        "PARAM$hyperparametertuning$iteraciones <- 12 # iteraciones bayesianas"
      ]
    },
    {
      "cell_type": "code",
      "execution_count": null,
      "metadata": {
        "id": "or53-q3bmE5d"
      },
      "outputs": [],
      "source": [
        "# particionar agrega una columna llamada fold a un dataset\n",
        "#   que consiste en una particion estratificada segun agrupa\n",
        "# particionar( data=dataset, division=c(70,30),\n",
        "#  agrupa=clase_ternaria, seed=semilla)   crea una particion 70, 30\n",
        "\n",
        "particionar <- function(data, division, agrupa= \"\", campo= \"fold\", start= 1, seed= NA) {\n",
        "  if (!is.na(seed)) set.seed(seed, \"L'Ecuyer-CMRG\")\n",
        "\n",
        "  bloque <- unlist(mapply(\n",
        "    function(x, y) {rep(y, x)},division, seq(from= start, length.out= length(division))))\n",
        "\n",
        "  data[, (campo) := sample(rep(bloque,ceiling(.N / length(bloque))))[1:.N],by= agrupa]\n",
        "}"
      ]
    },
    {
      "cell_type": "code",
      "execution_count": null,
      "metadata": {
        "id": "CGKOZ9aMmKxi"
      },
      "outputs": [],
      "source": [
        "# iniciliazo el dataset de realidad, para medir ganancia\n",
        "realidad_inicializar <- function( pfuture, pparam) {\n",
        "\n",
        "  # datos para verificar la ganancia\n",
        "  drealidad <- pfuture[, list(numero_de_cliente, foto_mes, clase_ternaria)]\n",
        "\n",
        "  particionar(drealidad,\n",
        "    division= c(3, 7),\n",
        "    agrupa= \"clase_ternaria\",\n",
        "    seed= PARAM$semilla_kaggle\n",
        "  )\n",
        "\n",
        "  return( drealidad )\n",
        "}"
      ]
    },
    {
      "cell_type": "code",
      "execution_count": null,
      "metadata": {
        "id": "6aVLFlEbmM3s"
      },
      "outputs": [],
      "source": [
        "# evaluo ganancia en los datos de la realidad\n",
        "\n",
        "realidad_evaluar <- function( prealidad, pprediccion) {\n",
        "\n",
        "  prealidad[ pprediccion,\n",
        "    on= c(\"numero_de_cliente\", \"foto_mes\"),\n",
        "    predicted:= i.Predicted\n",
        "  ]\n",
        "\n",
        "  tbl <- prealidad[, list(\"qty\"=.N), list(fold, predicted, clase_ternaria)]\n",
        "\n",
        "  res <- list()\n",
        "  res$public  <- tbl[fold==1 & predicted==1L, sum(qty*ifelse(clase_ternaria==\"BAJA+2\", 780000, -20000))]/0.3\n",
        "  res$private <- tbl[fold==2 & predicted==1L, sum(qty*ifelse(clase_ternaria==\"BAJA+2\", 780000, -20000))]/0.7\n",
        "  res$total <- tbl[predicted==1L, sum(qty*ifelse(clase_ternaria==\"BAJA+2\", 780000, -20000))]\n",
        "\n",
        "  prealidad[, predicted:=NULL]\n",
        "  return( res )\n",
        "}"
      ]
    },
    {
      "cell_type": "markdown",
      "metadata": {
        "id": "4RWZXL1VZjMI"
      },
      "source": [
        "### 2.2.4  Preprocesamiento"
      ]
    },
    {
      "cell_type": "code",
      "execution_count": null,
      "metadata": {
        "id": "j3toG9-lZm4K"
      },
      "outputs": [],
      "source": [
        "# carpeta de trabajo\n",
        "\n",
        "setwd(\"/content/buckets/b1/exp\")\n",
        "experimento_folder <- paste0(\"HT\", PARAM$experimento)\n",
        "dir.create(experimento_folder, showWarnings=FALSE)\n",
        "setwd( paste0(\"/content/buckets/b1/exp/\", experimento_folder ))"
      ]
    },
    {
      "cell_type": "code",
      "execution_count": null,
      "metadata": {
        "id": "FM3lxKoLZ643"
      },
      "outputs": [],
      "source": [
        "# lectura del dataset\n",
        "dataset <- fread(\"/content/datasets/competencia_01.csv.gz\", stringsAsFactors= TRUE)"
      ]
    },
    {
      "cell_type": "markdown",
      "metadata": {
        "id": "ZYiNLDVYlCB3"
      },
      "source": [
        "## FEATURE ENGENIERING"
      ]
    },
    {
      "cell_type": "code",
      "execution_count": null,
      "metadata": {
        "id": "nIeon38mg1KY",
        "outputId": "81f923e5-81b5-49cc-8167-bd6f759d3f6c"
      },
      "outputs": [
        {
          "name": "stderr",
          "output_type": "stream",
          "text": [
            "Warning message in `[.data.table`(dataset, foto_mes == 202106, `:=`((var), get(var) * :\n",
            "“96.468750 (type 'double') at RHS position 1 out-of-range(NA) or truncated (precision lost) when assigning to type 'integer' (column 7 named 'cliente_antiguedad')”\n",
            "Warning message in `[.data.table`(dataset, foto_mes == 202106, `:=`((var), get(var) * :\n",
            "“4.545455 (type 'double') at RHS position 1 out-of-range(NA) or truncated (precision lost) when assigning to type 'integer' (column 98 named 'chomebanking_transacciones')”\n",
            "Warning message in `[.data.table`(dataset, foto_mes == 202106, `:=`((var), get(var) * :\n",
            "“-321.561884 (type 'double') at RHS position 1 out-of-range(NA) or truncated (precision lost) when assigning to type 'integer' (column 114 named 'Master_Fvencimiento')”\n",
            "Warning message in `[.data.table`(dataset, foto_mes == 202106, `:=`((var), get(var) * :\n",
            "“44.347826 (type 'double') at RHS position 1741 out-of-range(NA) or truncated (precision lost) when assigning to type 'integer' (column 115 named 'Master_Finiciomora')”\n",
            "Warning message in `[.data.table`(dataset, foto_mes == 202106, `:=`((var), get(var) * :\n",
            "“inf (type 'double') at RHS position 3 out-of-range(NA) or truncated (precision lost) when assigning to type 'integer' (column 124 named 'Master_fultimo_cierre')”\n",
            "Warning message in `[.data.table`(dataset, foto_mes == 202106, `:=`((var), get(var) * :\n",
            "“2919.920685 (type 'double') at RHS position 1 out-of-range(NA) or truncated (precision lost) when assigning to type 'integer' (column 128 named 'Master_fechaalta')”\n",
            "Warning message in `[.data.table`(dataset, foto_mes == 202106, `:=`((var), get(var) * :\n",
            "“-730.698202 (type 'double') at RHS position 1 out-of-range(NA) or truncated (precision lost) when assigning to type 'integer' (column 136 named 'Visa_Fvencimiento')”\n",
            "Warning message in `[.data.table`(dataset, foto_mes == 202106, `:=`((var), get(var) * :\n",
            "“inf (type 'double') at RHS position 2 out-of-range(NA) or truncated (precision lost) when assigning to type 'integer' (column 146 named 'Visa_fultimo_cierre')”\n",
            "Warning message in `[.data.table`(dataset, foto_mes == 202106, `:=`((var), get(var) * :\n",
            "“2935.895699 (type 'double') at RHS position 1 out-of-range(NA) or truncated (precision lost) when assigning to type 'integer' (column 150 named 'Visa_fechaalta')”\n",
            "Warning message in `[.data.table`(dataset, foto_mes == 202106, `:=`((var), get(var) * :\n",
            "“5.833333 (type 'double') at RHS position 1 out-of-range(NA) or truncated (precision lost) when assigning to type 'integer' (column 152 named 'Visa_cconsumos')”\n"
          ]
        }
      ],
      "source": [
        "# CELDA DE MODIFICACION DE FEATURES\n",
        "# El objetivo es generar nuevas features. Con la función shift le vamos a poder generar nuevas columnas con los valores pasados o futuros de un dado registro.\n",
        "\n",
        "# Ordenar primero\n",
        "setorder(dataset, numero_de_cliente, foto_mes)\n",
        "\n",
        "# Columnas a excluir (las de agrupamiento/identificación)\n",
        "excluir <- c(\"numero_de_cliente\", \"foto_mes\", \"clase_ternaria\")\n",
        "\n",
        "# Obtener nombres de columnas para aplicar lags\n",
        "columnas_lag <- setdiff(names(dataset), excluir)\n",
        "\n",
        "# Acá decimos desde que mes hacia el futoro o pasado queremos poder ver\n",
        "\n",
        "# Aplicar lags 1, 2 y 3\n",
        "lags <- 2\n",
        "\n",
        "for(lag in lags) {\n",
        "  dataset[, paste0(columnas_lag, \"_lag\", lag) :=\n",
        "           lapply(.SD, shift, n = lag),\n",
        "         by = numero_de_cliente,\n",
        "         .SDcols = columnas_lag]\n",
        "  # Generar las columnas delta (valor actual - valor lag)\n",
        "  dataset[, paste0(columnas_lag, \"_delta\", lag) :=\n",
        "           Map(function(x, y) x - y,\n",
        "               .SD, dataset[, paste0(columnas_lag, \"_lag\", lag), with = FALSE]),\n",
        "         .SDcols = columnas_lag]\n",
        "}\n",
        "\n",
        "# Definir la función de concavidad local\n",
        "concavidad_local <- function(x) {\n",
        "  if (length(x) < 3 || anyNA(x)) return(NA_real_)\n",
        "  x[length(x)] - 2*x[length(x)-1] + x[length(x)-2]\n",
        "}\n",
        "\n",
        "# Versión optimizada\n",
        "crear_concavidad_opt <- function(dt, vars, n) {\n",
        "  dt[, paste0(vars, \"_concavidad_\", n) :=\n",
        "        lapply(.SD, function(col)\n",
        "          frollapply(col, n = n, FUN = concavidad_local, align = \"right\")),\n",
        "     by = numero_de_cliente,\n",
        "     .SDcols = vars]\n",
        "}\n",
        "\n",
        "# Ejemplo de uso:\n",
        "crear_concavidad_opt(dataset, columnas_lag, n = 3)\n",
        "\n",
        "\n",
        "# Intentamos identificar quien recibe aguinaldo\n",
        "# Creo un criterio de identificación de aguinaldo, y la modifico con un factor de proporcion\n",
        "vars_ingresos <- columnas_lag\n",
        "\n",
        "for (var in vars_ingresos) {\n",
        "  mediana_hist <- median(dataset[foto_mes < 202106, get(var)], na.rm = TRUE)\n",
        "  mediana_junio <- median(dataset[foto_mes == 202106, get(var)], na.rm = TRUE)\n",
        "\n",
        "  factor <- mediana_hist / mediana_junio\n",
        "\n",
        "  dataset[foto_mes == 202106, (var) := get(var) * factor]\n",
        "}\n"
      ]
    },
    {
      "cell_type": "code",
      "execution_count": null,
      "metadata": {
        "id": "OsJ-91UeZ-I_"
      },
      "outputs": [],
      "source": [
        "dataset_train <- dataset[foto_mes %in% PARAM$train]"
      ]
    },
    {
      "cell_type": "code",
      "execution_count": null,
      "metadata": {
        "id": "vrWE7BE0aB2J"
      },
      "outputs": [],
      "source": [
        "# paso la clase a binaria que tome valores {0,1}  enteros\n",
        "#  BAJA+1 y BAJA+2  son  1,   CONTINUA es 0\n",
        "#  a partir de ahora ya NO puedo cortar  por prob(BAJA+2) > 1/40\n",
        "\n",
        "dataset_train[,\n",
        "  clase01 := ifelse(clase_ternaria %in% c(\"BAJA+2\",\"BAJA+1\"), 1L, 0L)\n",
        "]"
      ]
    },
    {
      "cell_type": "code",
      "execution_count": null,
      "metadata": {
        "id": "jP7YlQBnaW6W"
      },
      "outputs": [],
      "source": [
        "# defino los datos que forma parte del training\n",
        "# aqui se hace el undersampling de los CONTINUA\n",
        "# notar que para esto utilizo la SEGUNDA semilla\n",
        "\n",
        "set.seed(PARAM$semilla_primigenia, kind = \"L'Ecuyer-CMRG\")\n",
        "dataset_train[, azar := runif(nrow(dataset_train))]\n",
        "dataset_train[, training := 0L]\n",
        "\n",
        "dataset_train[\n",
        "  foto_mes %in%  PARAM$train &\n",
        "    (azar <= PARAM$trainingstrategy$undersampling | clase_ternaria %in% c(\"BAJA+1\", \"BAJA+2\")),\n",
        "  training := 1L\n",
        "]"
      ]
    },
    {
      "cell_type": "code",
      "execution_count": null,
      "metadata": {
        "id": "xElu4s5W4rX7"
      },
      "outputs": [],
      "source": [
        "# los campos que se van a utilizar\n",
        "\n",
        "campos_buenos <- setdiff(\n",
        "  colnames(dataset_train),\n",
        "  c(\"clase_ternaria\", \"clase01\", \"azar\", \"training\")\n",
        ")"
      ]
    },
    {
      "cell_type": "code",
      "execution_count": null,
      "metadata": {
        "colab": {
          "base_uri": "https://localhost:8080/",
          "height": 52
        },
        "id": "PppMHcGYaaol",
        "outputId": "2438838d-9184-4437-b55e-987debb5205d"
      },
      "outputs": [
        {
          "data": {
            "text/html": [
              "53377"
            ],
            "text/latex": [
              "53377"
            ],
            "text/markdown": [
              "53377"
            ],
            "text/plain": [
              "[1] 53377"
            ]
          },
          "metadata": {},
          "output_type": "display_data"
        },
        {
          "data": {
            "text/html": [
              "458"
            ],
            "text/latex": [
              "458"
            ],
            "text/markdown": [
              "458"
            ],
            "text/plain": [
              "[1] 458"
            ]
          },
          "metadata": {},
          "output_type": "display_data"
        }
      ],
      "source": [
        "# dejo los datos en el formato que necesita LightGBM\n",
        "\n",
        "dtrain <- lgb.Dataset(\n",
        "  data= data.matrix(dataset_train[training == 1L, campos_buenos, with= FALSE]),\n",
        "  label= dataset_train[training == 1L, clase01],\n",
        "  free_raw_data= FALSE\n",
        ")\n",
        "\n",
        "nrow(dtrain)\n",
        "ncol(dtrain)"
      ]
    },
    {
      "cell_type": "markdown",
      "metadata": {
        "id": "Ta-EkOu3cphF"
      },
      "source": [
        "2.2.5 Configuracion Bayesian Optimization"
      ]
    },
    {
      "cell_type": "code",
      "execution_count": null,
      "metadata": {
        "id": "cjgfurjdfiXb"
      },
      "outputs": [],
      "source": [
        "# En el argumento x llegan los parmaetros de la bayesiana\n",
        "#  devuelve la AUC en cross validation del modelo entrenado\n",
        "\n",
        "EstimarGanancia_AUC_lightgbm <- function(x) {\n",
        "\n",
        "  # x pisa (o agrega) a param_fijos\n",
        "  param_completo <- modifyList(PARAM$lgbm$param_fijos, x)\n",
        "\n",
        "  # entreno LightGBM\n",
        "  modelocv <- lgb.cv(\n",
        "    data= dtrain,\n",
        "    nfold= PARAM$hyperparametertuning$xval_folds,\n",
        "    stratified= TRUE,\n",
        "    param= param_completo\n",
        "  )\n",
        "\n",
        "  # obtengo la ganancia\n",
        "  AUC <- modelocv$best_score\n",
        "\n",
        "  # hago espacio en la memoria\n",
        "  rm(modelocv)\n",
        "  gc(full= TRUE, verbose= FALSE)\n",
        "\n",
        "  message(format(Sys.time(), \"%a %b %d %X %Y\"), \" AUC \", AUC)\n",
        "\n",
        "  return(AUC)\n",
        "}"
      ]
    },
    {
      "cell_type": "code",
      "execution_count": null,
      "metadata": {
        "id": "WLi_o1hocvN-"
      },
      "outputs": [],
      "source": [
        "# Aqui comienza la configuracion de la Bayesian Optimization\n",
        "\n",
        "# en este archivo quedan la evolucion binaria de la BO\n",
        "kbayesiana <- \"bayesiana.RDATA\"\n",
        "\n",
        "funcion_optimizar <- EstimarGanancia_AUC_lightgbm # la funcion que voy a maximizar\n",
        "\n",
        "configureMlr(show.learner.output= FALSE)\n",
        "\n",
        "# configuro la busqueda bayesiana,  los hiperparametros que se van a optimizar\n",
        "# por favor, no desesperarse por lo complejo\n",
        "\n",
        "obj.fun <- makeSingleObjectiveFunction(\n",
        "  fn= funcion_optimizar, # la funcion que voy a maximizar\n",
        "  minimize= FALSE, # estoy Maximizando la ganancia\n",
        "  noisy= TRUE,\n",
        "  par.set= PARAM$hypeparametertuning$hs, # definido al comienzo del programa\n",
        "  has.simple.signature= FALSE # paso los parametros en una lista\n",
        ")\n",
        "\n",
        "# cada 600 segundos guardo el resultado intermedio\n",
        "ctrl <- makeMBOControl(\n",
        "  save.on.disk.at.time= 600, # se graba cada 600 segundos\n",
        "  save.file.path= kbayesiana\n",
        ") # se graba cada 600 segundos\n",
        "\n",
        "# indico la cantidad de iteraciones que va a tener la Bayesian Optimization\n",
        "ctrl <- setMBOControlTermination(\n",
        "  ctrl,\n",
        "  iters= PARAM$hyperparametertuning$iteraciones\n",
        ") # cantidad de iteraciones\n",
        "\n",
        "# defino el método estandar para la creacion de los puntos iniciales,\n",
        "# los \"No Inteligentes\"\n",
        "ctrl <- setMBOControlInfill(ctrl, crit= makeMBOInfillCritEI())\n",
        "\n",
        "# establezco la funcion que busca el maximo\n",
        "surr.km <- makeLearner(\n",
        "  \"regr.km\",\n",
        "  predict.type= \"se\",\n",
        "  covtype= \"matern3_2\",\n",
        "  control= list(trace= TRUE)\n",
        ")\n"
      ]
    },
    {
      "cell_type": "markdown",
      "metadata": {
        "id": "_uUeVo5pc4zc"
      },
      "source": [
        "2.2.6 Corrida Bayesian Optimization"
      ]
    },
    {
      "cell_type": "code",
      "execution_count": null,
      "metadata": {
        "colab": {
          "base_uri": "https://localhost:8080/"
        },
        "id": "RcABNaKGciaz",
        "outputId": "1b6d6673-23b7-445e-e385-853f307662d0"
      },
      "outputs": [
        {
          "name": "stderr",
          "output_type": "stream",
          "text": [
            "Warning message in mboContinue(kbayesiana):\n",
            "“Tuning ended with term.iter. No need to continue. Simply returning stored result.”\n"
          ]
        }
      ],
      "source": [
        "# inicio la optimizacion bayesiana, retomando si ya existe\n",
        "# es la celda mas lenta de todo el notebook\n",
        "\n",
        "if (!file.exists(kbayesiana)) {\n",
        "  bayesiana_salida <- mbo(obj.fun, learner= surr.km, control= ctrl)\n",
        "} else {\n",
        "  bayesiana_salida <- mboContinue(kbayesiana) # retomo en caso que ya exista\n",
        "}"
      ]
    },
    {
      "cell_type": "code",
      "execution_count": null,
      "metadata": {
        "id": "ssk5nnMk6INK",
        "outputId": "c57df91c-6618-4f1a-981e-c10edda7017b"
      },
      "outputs": [
        {
          "data": {
            "text/html": [
              "<style>\n",
              ".list-inline {list-style: none; margin:0; padding: 0}\n",
              ".list-inline>li {display: inline-block}\n",
              ".list-inline>li:not(:last-child)::after {content: \"\\00b7\"; padding: 0 .5ex}\n",
              "</style>\n",
              "<ol class=list-inline><li>'num_iterations'</li><li>'learning_rate'</li><li>'feature_fraction'</li><li>'num_leaves'</li><li>'min_data_in_leaf'</li><li>'y'</li><li>'dob'</li><li>'eol'</li><li>'error.message'</li><li>'exec.time'</li><li>'ei'</li><li>'error.model'</li><li>'train.time'</li><li>'prop.type'</li><li>'propose.time'</li><li>'se'</li><li>'mean'</li></ol>\n"
            ],
            "text/latex": [
              "\\begin{enumerate*}\n",
              "\\item 'num\\_iterations'\n",
              "\\item 'learning\\_rate'\n",
              "\\item 'feature\\_fraction'\n",
              "\\item 'num\\_leaves'\n",
              "\\item 'min\\_data\\_in\\_leaf'\n",
              "\\item 'y'\n",
              "\\item 'dob'\n",
              "\\item 'eol'\n",
              "\\item 'error.message'\n",
              "\\item 'exec.time'\n",
              "\\item 'ei'\n",
              "\\item 'error.model'\n",
              "\\item 'train.time'\n",
              "\\item 'prop.type'\n",
              "\\item 'propose.time'\n",
              "\\item 'se'\n",
              "\\item 'mean'\n",
              "\\end{enumerate*}\n"
            ],
            "text/markdown": [
              "1. 'num_iterations'\n",
              "2. 'learning_rate'\n",
              "3. 'feature_fraction'\n",
              "4. 'num_leaves'\n",
              "5. 'min_data_in_leaf'\n",
              "6. 'y'\n",
              "7. 'dob'\n",
              "8. 'eol'\n",
              "9. 'error.message'\n",
              "10. 'exec.time'\n",
              "11. 'ei'\n",
              "12. 'error.model'\n",
              "13. 'train.time'\n",
              "14. 'prop.type'\n",
              "15. 'propose.time'\n",
              "16. 'se'\n",
              "17. 'mean'\n",
              "\n",
              "\n"
            ],
            "text/plain": [
              " [1] \"num_iterations\"   \"learning_rate\"    \"feature_fraction\" \"num_leaves\"      \n",
              " [5] \"min_data_in_leaf\" \"y\"                \"dob\"              \"eol\"             \n",
              " [9] \"error.message\"    \"exec.time\"        \"ei\"               \"error.model\"     \n",
              "[13] \"train.time\"       \"prop.type\"        \"propose.time\"     \"se\"              \n",
              "[17] \"mean\"            "
            ]
          },
          "metadata": {},
          "output_type": "display_data"
        }
      ],
      "source": [
        "\n",
        "tb_bayesiana <- as.data.table(bayesiana_salida$opt.path)\n",
        "colnames( tb_bayesiana)"
      ]
    },
    {
      "cell_type": "code",
      "execution_count": null,
      "metadata": {
        "id": "u4zq-vknhjGc"
      },
      "outputs": [],
      "source": [
        "# # almaceno los resultados de la Bayesian Optimization\n",
        "# # y capturo los mejores hiperparametros encontrados\n",
        "\n",
        "tb_bayesiana <- as.data.table(bayesiana_salida$opt.path)\n",
        "\n",
        "tb_bayesiana[, iter := .I]\n",
        "\n",
        "# ordeno en forma descendente por AUC = y\n",
        "setorder(tb_bayesiana, -y)\n",
        "\n",
        "# grabo para eventualmente poder utilizarlos en OTRA corrida\n",
        "fwrite( tb_bayesiana,\n",
        "  file= \"BO_log.txt\",\n",
        "  sep= \"\\t\"\n",
        ")\n",
        "\n",
        "# los mejores hiperparámetros son los que quedaron en el registro 1 de la tabla\n",
        "PARAM$out$lgbm$mejores_hiperparametros <- tb_bayesiana[\n",
        "  1, # el primero es el de mejor AUC\n",
        "  setdiff(colnames(tb_bayesiana),\n",
        "    c(\"y\",\"dob\",\"eol\",\"error.message\",\"exec.time\",\"ei\",\"error.model\",\n",
        "      \"train.time\",\"prop.type\",\"propose.time\",\"se\",\"mean\",\"iter\")),\n",
        "  with= FALSE\n",
        "]\n",
        "\n",
        "\n",
        "PARAM$out$lgbm$y <- tb_bayesiana[1, y]\n"
      ]
    },
    {
      "cell_type": "code",
      "execution_count": null,
      "metadata": {
        "id": "E8v2eA427N8e"
      },
      "outputs": [],
      "source": [
        "write_yaml( PARAM, file=\"PARAM.yml\")"
      ]
    },
    {
      "cell_type": "code",
      "execution_count": null,
      "metadata": {
        "id": "iBTWexVU7PGC",
        "outputId": "bace910e-b448-4478-f8ba-7aff38808da6"
      },
      "outputs": [
        {
          "name": "stdout",
          "output_type": "stream",
          "text": [
            "   num_iterations learning_rate feature_fraction num_leaves min_data_in_leaf\n",
            "            <int>         <num>            <num>      <int>            <int>\n",
            "1:           2950     0.1227181        0.7992754         62               67\n",
            "[1] 0.9453182\n"
          ]
        }
      ],
      "source": [
        "print(PARAM$out$lgbm$mejores_hiperparametros)\n",
        "print(PARAM$out$lgbm$y)"
      ]
    },
    {
      "cell_type": "markdown",
      "metadata": {
        "id": "TKsVZmAnhwX-"
      },
      "source": [
        "## 2.3  Produccion"
      ]
    },
    {
      "cell_type": "markdown",
      "metadata": {
        "id": "RQ_C33Tr5B_9"
      },
      "source": [
        "### Final Training\n",
        "Construyo el modelo final, que es uno solo, no hace ningun tipo de particion < training, validation, testing>]"
      ]
    },
    {
      "cell_type": "code",
      "execution_count": null,
      "metadata": {
        "id": "eDqfyA14hzwv"
      },
      "outputs": [],
      "source": [
        "setwd(\"/content/buckets/b1/exp\")\n",
        "experimento <- paste0(\"exp\", PARAM$experimento)\n",
        "dir.create(experimento, showWarnings= FALSE)\n",
        "setwd( paste0(\"/content/buckets/b1/exp/\", experimento ))"
      ]
    },
    {
      "cell_type": "markdown",
      "metadata": {
        "id": "8qFmFivf5Iet"
      },
      "source": [
        "#### Final Training Dataset\n",
        "\n",
        "Aqui esta la gran decision de en qué meses hago el Final Training\n",
        "<br> debo utilizar los mejores hiperparámetros que encontré en la  optimización bayesiana"
      ]
    },
    {
      "cell_type": "code",
      "execution_count": null,
      "metadata": {
        "id": "lg5WVZncvc7H"
      },
      "outputs": [],
      "source": [
        "# clase01\n",
        "dataset[, clase01 := ifelse(clase_ternaria %in% c(\"BAJA+1\", \"BAJA+2\"), 1L, 0L)]"
      ]
    },
    {
      "cell_type": "code",
      "execution_count": null,
      "metadata": {
        "id": "yc9QzXREv0xf",
        "outputId": "b20580b8-6aa4-4918-920d-8614be2fa73e"
      },
      "outputs": [
        {
          "data": {
            "text/html": [
              "<table class=\"dataframe\">\n",
              "<caption>A data.table: 3 × 2</caption>\n",
              "<thead>\n",
              "\t<tr><th scope=col>clase_ternaria</th><th scope=col>N</th></tr>\n",
              "\t<tr><th scope=col>&lt;fct&gt;</th><th scope=col>&lt;int&gt;</th></tr>\n",
              "</thead>\n",
              "<tbody>\n",
              "\t<tr><td>CONTINUA</td><td>481491</td></tr>\n",
              "\t<tr><td>BAJA+2  </td><td>  2808</td></tr>\n",
              "\t<tr><td>BAJA+1  </td><td>  2492</td></tr>\n",
              "</tbody>\n",
              "</table>\n"
            ],
            "text/latex": [
              "A data.table: 3 × 2\n",
              "\\begin{tabular}{ll}\n",
              " clase\\_ternaria & N\\\\\n",
              " <fct> & <int>\\\\\n",
              "\\hline\n",
              "\t CONTINUA & 481491\\\\\n",
              "\t BAJA+2   &   2808\\\\\n",
              "\t BAJA+1   &   2492\\\\\n",
              "\\end{tabular}\n"
            ],
            "text/markdown": [
              "\n",
              "A data.table: 3 × 2\n",
              "\n",
              "| clase_ternaria &lt;fct&gt; | N &lt;int&gt; |\n",
              "|---|---|\n",
              "| CONTINUA | 481491 |\n",
              "| BAJA+2   |   2808 |\n",
              "| BAJA+1   |   2492 |\n",
              "\n"
            ],
            "text/plain": [
              "  clase_ternaria N     \n",
              "1 CONTINUA       481491\n",
              "2 BAJA+2           2808\n",
              "3 BAJA+1           2492"
            ]
          },
          "metadata": {},
          "output_type": "display_data"
        }
      ],
      "source": [
        "dataset_train <- dataset[foto_mes %in% PARAM$train_final]\n",
        "dataset_train[,.N,clase_ternaria]"
      ]
    },
    {
      "cell_type": "code",
      "execution_count": null,
      "metadata": {
        "id": "thjdqEBLuvNt"
      },
      "outputs": [],
      "source": [
        "# dejo los datos en el formato que necesita LightGBM\n",
        "\n",
        "dtrain_final <- lgb.Dataset(\n",
        "  data= data.matrix(dataset_train[, campos_buenos, with= FALSE]),\n",
        "  label= dataset_train[, clase01]\n",
        ")"
      ]
    },
    {
      "cell_type": "markdown",
      "metadata": {
        "id": "VNUa-WSz5Oqu"
      },
      "source": [
        "#### Final Training Hyperparameters"
      ]
    },
    {
      "cell_type": "code",
      "execution_count": null,
      "metadata": {
        "id": "FgCcvBfEwImu"
      },
      "outputs": [],
      "source": [
        "param_final <- modifyList(PARAM$lgbm$param_fijos,\n",
        "  PARAM$out$lgbm$mejores_hiperparametros)\n",
        "\n",
        "# param_final <- PARAM$lgbm$param_fijos"
      ]
    },
    {
      "cell_type": "markdown",
      "metadata": {
        "id": "TZIYn4l95TBH"
      },
      "source": [
        "#### Training\n",
        "Genero el modelo final, siempre sobre TODOS los datos de  final_train, sin hacer ningun tipo de undersampling de la clase mayoritaria y mucho menos cross validation."
      ]
    },
    {
      "cell_type": "code",
      "execution_count": null,
      "metadata": {
        "id": "vPLsd4mMRe4u"
      },
      "outputs": [],
      "source": [
        "# este punto es muy SUTIL  y será revisado en la Clase 05\n",
        "\n",
        "param_normalizado <- copy(param_final)\n",
        "param_normalizado$min_data_in_leaf <-  round(param_final$min_data_in_leaf / PARAM$trainingstrategy$undersampling)"
      ]
    },
    {
      "cell_type": "code",
      "execution_count": null,
      "metadata": {
        "id": "WRI_-taRwOXO",
        "outputId": "c4c635b8-4f19-4127-c31f-0df830328b9b"
      },
      "outputs": [
        {
          "name": "stdout",
          "output_type": "stream",
          "text": [
            "Entrenando modelo 1 con seed = 143287 \n",
            "Entrenando modelo 2 con seed = 146213 \n",
            "Entrenando modelo 3 con seed = 310111 \n",
            "Entrenando modelo 4 con seed = 670627 \n",
            "Entrenando modelo 5 con seed = 880553 \n"
          ]
        }
      ],
      "source": [
        "# entreno LightGBM\n",
        "# Entreno 5 modelos con los pa{rametros utilizados con la bayesiana, variando la seed.\n",
        "\n",
        "# Guardamos los modelos\n",
        "modelos <- list()\n",
        "\n",
        "# Seeds\n",
        "semillas <- c(143287, 146213, 310111, 670627, 880553)\n",
        "\n",
        "# Iteramos\n",
        "for (i in seq_along(semillas)) {\n",
        "  cat(\"Entrenando modelo\", i, \"con seed =\", semillas[i], \"\\n\")\n",
        "\n",
        "  # Reemplazás la seed en cada iteración\n",
        "  param_iter <- param_normalizado\n",
        "  param_iter$seed <- semillas[i]\n",
        "\n",
        "  # Entrenás el modelo\n",
        "  modelos[[i]] <- lgb.train(\n",
        "    data = dtrain_final,\n",
        "    param = param_iter\n",
        "  )\n",
        "}"
      ]
    },
    {
      "cell_type": "markdown",
      "metadata": {
        "id": "VEtp2--t5Ymg"
      },
      "source": [
        "### Scoring"
      ]
    },
    {
      "cell_type": "markdown",
      "metadata": {
        "id": "hI5008Mj5ZdI"
      },
      "source": [
        "Aplico el modelo final a los datos del futuro"
      ]
    },
    {
      "cell_type": "code",
      "execution_count": null,
      "metadata": {
        "id": "T9tpFz4iffYY",
        "outputId": "b8ede066-fd36-4af0-a4ef-955592786e5e"
      },
      "outputs": [
        {
          "name": "stdout",
          "output_type": "stream",
          "text": [
            "Generando predicciones del modelo 1 \n",
            "Generando predicciones del modelo 2 \n",
            "Generando predicciones del modelo 3 \n",
            "Generando predicciones del modelo 4 \n",
            "Generando predicciones del modelo 5 \n"
          ]
        }
      ],
      "source": [
        "# datos sin clase\n",
        "dfuture <- dataset[foto_mes %in% PARAM$future]\n",
        "\n",
        "# matriz de entrada\n",
        "X_future <- data.matrix(dfuture[, campos_buenos, with = FALSE])\n",
        "\n",
        "# lista para guardar predicciones\n",
        "predicciones <- list()\n",
        "\n",
        "for (i in seq_along(modelos)) {\n",
        "  cat(\"Generando predicciones del modelo\", i, \"\\n\")\n",
        "  predicciones[[i]] <- predict(modelos[[i]], X_future)\n",
        "}\n",
        "\n",
        "# Convertir a data.table con todas las predicciones\n",
        "tb_prediccion <- data.table(\n",
        "  numero_de_cliente = dfuture$numero_de_cliente,\n",
        "  foto_mes = dfuture$foto_mes\n",
        ")\n",
        "\n",
        "# agregar columnas con cada predicción\n",
        "for (i in seq_along(predicciones)) {\n",
        "  tb_prediccion[, paste0(\"prob_modelo_\", i) := predicciones[[i]]]\n",
        "}\n",
        "\n",
        "# Tabla de predicciones\n",
        "# guardar resultados\n",
        "fwrite(tb_prediccion, file = \"predicciones_multimodelo_test.txt\", sep = \"\\t\")"
      ]
    },
    {
      "cell_type": "markdown",
      "metadata": {
        "id": "L8WhcunGfxke"
      },
      "source": [
        "Si hacemos un promedio directo sobre las predicciones"
      ]
    },
    {
      "cell_type": "code",
      "execution_count": null,
      "metadata": {
        "id": "g2UF8tgXfwsS"
      },
      "outputs": [],
      "source": [
        "# Promedio de predicciones\n",
        "prediccion_promedio <- Reduce(\"+\", predicciones) / length(predicciones)\n",
        "\n",
        "# tabla final\n",
        "tb_prediccion <- dfuture[, .(numero_de_cliente, foto_mes)]\n",
        "tb_prediccion[, prob := prediccion_promedio]\n",
        "\n",
        "# guardar archivo final\n",
        "fwrite(tb_prediccion, file = \"prediccion_ensemble_test.txt\", sep = \"\\t\")"
      ]
    },
    {
      "cell_type": "code",
      "execution_count": null,
      "metadata": {
        "id": "WKUWlZ1fnDGo"
      },
      "outputs": [],
      "source": [
        "# inicilizo el dataset  drealidad\n",
        "drealidad <- realidad_inicializar( dfuture, PARAM)"
      ]
    },
    {
      "cell_type": "markdown",
      "metadata": {
        "id": "jOt4eG_55ltv"
      },
      "source": [
        "Kaggle Competition Submit"
      ]
    },
    {
      "cell_type": "code",
      "execution_count": null,
      "metadata": {
        "id": "Vdu3moTfJ1Vl",
        "outputId": "3c8d0367-f769-4497-ebbe-1b376c1ad54a"
      },
      "outputs": [
        {
          "data": {
            "text/html": [
              "<style>\n",
              ".list-inline {list-style: none; margin:0; padding: 0}\n",
              ".list-inline>li {display: inline-block}\n",
              ".list-inline>li:not(:last-child)::after {content: \"\\00b7\"; padding: 0 .5ex}\n",
              "</style>\n",
              "<ol class=list-inline><li>6000</li><li>6500</li><li>7000</li><li>7500</li><li>8000</li><li>8500</li><li>9000</li><li>9500</li><li>10000</li><li>10500</li><li>11000</li><li>11500</li><li>12000</li><li>12500</li><li>13000</li><li>13500</li><li>14000</li><li>14500</li><li>15000</li><li>15500</li><li>16000</li><li>16500</li><li>17000</li><li>17500</li><li>18000</li><li>18500</li><li>19000</li></ol>\n"
            ],
            "text/latex": [
              "\\begin{enumerate*}\n",
              "\\item 6000\n",
              "\\item 6500\n",
              "\\item 7000\n",
              "\\item 7500\n",
              "\\item 8000\n",
              "\\item 8500\n",
              "\\item 9000\n",
              "\\item 9500\n",
              "\\item 10000\n",
              "\\item 10500\n",
              "\\item 11000\n",
              "\\item 11500\n",
              "\\item 12000\n",
              "\\item 12500\n",
              "\\item 13000\n",
              "\\item 13500\n",
              "\\item 14000\n",
              "\\item 14500\n",
              "\\item 15000\n",
              "\\item 15500\n",
              "\\item 16000\n",
              "\\item 16500\n",
              "\\item 17000\n",
              "\\item 17500\n",
              "\\item 18000\n",
              "\\item 18500\n",
              "\\item 19000\n",
              "\\end{enumerate*}\n"
            ],
            "text/markdown": [
              "1. 6000\n",
              "2. 6500\n",
              "3. 7000\n",
              "4. 7500\n",
              "5. 8000\n",
              "6. 8500\n",
              "7. 9000\n",
              "8. 9500\n",
              "9. 10000\n",
              "10. 10500\n",
              "11. 11000\n",
              "12. 11500\n",
              "13. 12000\n",
              "14. 12500\n",
              "15. 13000\n",
              "16. 13500\n",
              "17. 14000\n",
              "18. 14500\n",
              "19. 15000\n",
              "20. 15500\n",
              "21. 16000\n",
              "22. 16500\n",
              "23. 17000\n",
              "24. 17500\n",
              "25. 18000\n",
              "26. 18500\n",
              "27. 19000\n",
              "\n",
              "\n"
            ],
            "text/plain": [
              " [1]  6000  6500  7000  7500  8000  8500  9000  9500 10000 10500 11000 11500\n",
              "[13] 12000 12500 13000 13500 14000 14500 15000 15500 16000 16500 17000 17500\n",
              "[25] 18000 18500 19000"
            ]
          },
          "metadata": {},
          "output_type": "display_data"
        }
      ],
      "source": [
        "PARAM$cortes"
      ]
    },
    {
      "cell_type": "code",
      "execution_count": null,
      "metadata": {
        "id": "gWW3tatE12je",
        "outputId": "b83539b9-bb3e-4cf5-cc51-c618fef37dc3"
      },
      "outputs": [
        {
          "name": "stdout",
          "output_type": "stream",
          "text": [
            "Envios=6000\t TOTAL=332000000  Public=293933333 Private=348314286\n",
            "Envios=6500\t TOTAL=337200000  Public=297066667 Private=354400000\n",
            "Envios=7000\t TOTAL=340000000  Public=301866667 Private=356342857\n",
            "Envios=7500\t TOTAL=345200000  Public=308266667 Private=361028571\n",
            "Envios=8000\t TOTAL=352000000  Public=304933333 Private=372171429\n",
            "Envios=8500\t TOTAL=354800000  Public=309266667 Private=374314286\n",
            "Envios=9000\t TOTAL=357600000  Public=315800000 Private=375514286\n",
            "Envios=9500\t TOTAL=360400000  Public=321533333 Private=377057143\n",
            "Envios=10000\t TOTAL=359200000  Public=317400000 Private=377114286\n",
            "Envios=10500\t TOTAL=360400000  Public=317666667 Private=378714286\n",
            "Envios=11000\t TOTAL=356800000  Public=312800000 Private=375657143\n",
            "Envios=11500\t TOTAL=351600000  Public=308266667 Private=370171429\n",
            "Envios=12000\t TOTAL=348000000  Public=308466667 Private=364942857\n",
            "Envios=12500\t TOTAL=346800000  Public=305400000 Private=364542857\n",
            "Envios=13000\t TOTAL=347200000  Public=308533333 Private=363771429\n",
            "Envios=13500\t TOTAL=343600000  Public=306600000 Private=359457143\n",
            "Envios=14000\t TOTAL=342400000  Public=305466667 Private=358228571\n",
            "Envios=14500\t TOTAL=339600000  Public=307800000 Private=353228571\n",
            "Envios=15000\t TOTAL=336800000  Public=305600000 Private=350171429\n",
            "Envios=15500\t TOTAL=330800000  Public=300466667 Private=343800000\n",
            "Envios=16000\t TOTAL=325600000  Public=297666667 Private=337571429\n",
            "Envios=16500\t TOTAL=319600000  Public=296533333 Private=329485714\n",
            "Envios=17000\t TOTAL=316800000  Public=296800000 Private=325371429\n",
            "Envios=17500\t TOTAL=312400000  Public=287133333 Private=323228571\n",
            "Envios=18000\t TOTAL=307200000  Public=284600000 Private=316885714\n",
            "Envios=18500\t TOTAL=305200000  Public=285000000 Private=313857143\n",
            "Envios=19000\t TOTAL=297600000  Public=277733333 Private=306114286\n"
          ]
        }
      ],
      "source": [
        "# genero archivos con los  \"envios\" mejores\n",
        "# suba TODOS los archivos a Kaggle\n",
        "\n",
        "# ordeno por probabilidad descendente\n",
        "setorder(tb_prediccion, -prob)\n",
        "\n",
        "dir.create(\"kaggle_test\")\n",
        "\n",
        "for (envios in PARAM$cortes) {\n",
        "\n",
        "  tb_prediccion[, Predicted := 0L] # seteo inicial a 0\n",
        "  tb_prediccion[1:envios, Predicted := 1L] # marco los primeros\n",
        "\n",
        "  archivo_kaggle <- paste0(\"./kaggle_test/KA\", PARAM$experimento, \"_\", envios, \".csv\")\n",
        "\n",
        "  # grabo el archivo\n",
        "  fwrite(tb_prediccion[, list(numero_de_cliente, Predicted)],\n",
        "    file= archivo_kaggle,\n",
        "    sep= \",\"\n",
        "  )\n",
        "\n",
        "  res <- realidad_evaluar( drealidad, tb_prediccion)\n",
        "\n",
        "  options(scipen = 999)\n",
        "  cat( \"Envios=\", envios, \"\\t\",\n",
        "    \" TOTAL=\", res$total,\n",
        "    \"  Public=\", res$public,\n",
        "    \" Private=\", res$private,\n",
        "    \"\\n\",\n",
        "    sep= \"\"\n",
        "  )\n",
        "\n",
        "}"
      ]
    },
    {
      "cell_type": "code",
      "execution_count": null,
      "metadata": {
        "id": "B9tB2X4439Hg"
      },
      "outputs": [],
      "source": [
        "write_yaml( PARAM, file=\"PARAM.yml\")"
      ]
    },
    {
      "cell_type": "code",
      "execution_count": null,
      "metadata": {
        "id": "9zA_W25c15DP",
        "outputId": "5f0d570d-33e8-4b34-9f2b-d2107729e7d7"
      },
      "outputs": [
        {
          "data": {
            "text/html": [
              "'Fri Oct 10 15:13:29 2025'"
            ],
            "text/latex": [
              "'Fri Oct 10 15:13:29 2025'"
            ],
            "text/markdown": [
              "'Fri Oct 10 15:13:29 2025'"
            ],
            "text/plain": [
              "[1] \"Fri Oct 10 15:13:29 2025\""
            ]
          },
          "metadata": {},
          "output_type": "display_data"
        }
      ],
      "source": [
        "format(Sys.time(), \"%a %b %d %X %Y\")"
      ]
    },
    {
      "cell_type": "markdown",
      "metadata": {
        "id": "UdVZucdLHzZ0"
      },
      "source": [
        "Finalmente usted deberá cargar el resultado de su corrida en la Google Sheet Colaborativa,  hoja **TareaHogar04**\n",
        "<br> Siéntase libre de agregar las columnas que hagan falta a la planilla"
      ]
    },
    {
      "cell_type": "markdown",
      "metadata": {
        "id": "_lmf9Csvathj"
      },
      "source": [
        "# Ahora entrenamos con los 4 primeros meses y predecimos sobre el mes 6. Entreamos 5 modelos distintos, generados con distintas semillas."
      ]
    },
    {
      "cell_type": "code",
      "execution_count": null,
      "metadata": {
        "id": "sUErsJwvCv72"
      },
      "outputs": [],
      "source": [
        "# training y future\n",
        "PARAM$train <- c(202101,202102,202103,202104)\n",
        "PARAM$train_final <- c(202101,202102,202103,202104)\n",
        "PARAM$future <- c(202106)\n",
        "PARAM$semilla_kaggle <- 314159\n",
        "PARAM$cortes <- seq(6000, 19000, by= 500)"
      ]
    },
    {
      "cell_type": "code",
      "execution_count": null,
      "metadata": {
        "id": "yjzVY4pAhwox"
      },
      "outputs": [],
      "source": [
        "# clase01\n",
        "dataset[, clase01 := ifelse(clase_ternaria %in% c(\"BAJA+1\", \"BAJA+2\"), 1L, 0L)]"
      ]
    },
    {
      "cell_type": "code",
      "execution_count": null,
      "metadata": {
        "id": "IWdJb0L_h5oa",
        "outputId": "dff68d8d-8ebc-4ad9-aad6-44d9d1f15f64"
      },
      "outputs": [
        {
          "data": {
            "text/html": [
              "<table class=\"dataframe\">\n",
              "<caption>A data.table: 3 × 2</caption>\n",
              "<thead>\n",
              "\t<tr><th scope=col>clase_ternaria</th><th scope=col>N</th></tr>\n",
              "\t<tr><th scope=col>&lt;fct&gt;</th><th scope=col>&lt;int&gt;</th></tr>\n",
              "</thead>\n",
              "<tbody>\n",
              "\t<tr><td>CONTINUA</td><td>642824</td></tr>\n",
              "\t<tr><td>BAJA+2  </td><td>  3938</td></tr>\n",
              "\t<tr><td>BAJA+1  </td><td>  3447</td></tr>\n",
              "</tbody>\n",
              "</table>\n"
            ],
            "text/latex": [
              "A data.table: 3 × 2\n",
              "\\begin{tabular}{ll}\n",
              " clase\\_ternaria & N\\\\\n",
              " <fct> & <int>\\\\\n",
              "\\hline\n",
              "\t CONTINUA & 642824\\\\\n",
              "\t BAJA+2   &   3938\\\\\n",
              "\t BAJA+1   &   3447\\\\\n",
              "\\end{tabular}\n"
            ],
            "text/markdown": [
              "\n",
              "A data.table: 3 × 2\n",
              "\n",
              "| clase_ternaria &lt;fct&gt; | N &lt;int&gt; |\n",
              "|---|---|\n",
              "| CONTINUA | 642824 |\n",
              "| BAJA+2   |   3938 |\n",
              "| BAJA+1   |   3447 |\n",
              "\n"
            ],
            "text/plain": [
              "  clase_ternaria N     \n",
              "1 CONTINUA       642824\n",
              "2 BAJA+2           3938\n",
              "3 BAJA+1           3447"
            ]
          },
          "metadata": {},
          "output_type": "display_data"
        }
      ],
      "source": [
        "dataset_train <- dataset[foto_mes %in% PARAM$train_final]\n",
        "dataset_train[,.N,clase_ternaria]"
      ]
    },
    {
      "cell_type": "code",
      "execution_count": null,
      "metadata": {
        "id": "QChnuSEqiCPu"
      },
      "outputs": [],
      "source": [
        "# dejo los datos en el formato que necesita LightGBM\n",
        "\n",
        "dtrain_final <- lgb.Dataset(\n",
        "  data= data.matrix(dataset_train[, campos_buenos, with= FALSE]),\n",
        "  label= dataset_train[, clase01]\n",
        ")"
      ]
    },
    {
      "cell_type": "markdown",
      "metadata": {
        "id": "_XYDzaNViLA7"
      },
      "source": [
        "Entrenamos con los cuatro meses"
      ]
    },
    {
      "cell_type": "code",
      "execution_count": null,
      "metadata": {
        "id": "8VFGdarAiP-F",
        "outputId": "271b7277-4561-43ae-c41c-3d14d6f2c80d"
      },
      "outputs": [
        {
          "name": "stdout",
          "output_type": "stream",
          "text": [
            "Entrenando modelo 1 con seed = 143287 \n",
            "Entrenando modelo 2 con seed = 146213 \n",
            "Entrenando modelo 3 con seed = 310111 \n",
            "Entrenando modelo 4 con seed = 670627 \n",
            "Entrenando modelo 5 con seed = 880553 \n"
          ]
        }
      ],
      "source": [
        "# entreno LightGBM\n",
        "# Entreno 5 modelos con los pa{rametros utilizados con la bayesiana, variando la seed.\n",
        "\n",
        "# Guardamos los modelos\n",
        "modelos <- list()\n",
        "\n",
        "# Seeds\n",
        "semillas <- c(143287, 146213, 310111, 670627, 880553)\n",
        "\n",
        "# Iteramos\n",
        "for (i in seq_along(semillas)) {\n",
        "  cat(\"Entrenando modelo\", i, \"con seed =\", semillas[i], \"\\n\")\n",
        "\n",
        "  # Reemplazás la seed en cada iteración\n",
        "  param_iter <- param_normalizado\n",
        "  param_iter$seed <- semillas[i]\n",
        "\n",
        "  # Entrenás el modelo\n",
        "  modelos[[i]] <- lgb.train(\n",
        "    data = dtrain_final,\n",
        "    param = param_iter\n",
        "  )\n",
        "}"
      ]
    },
    {
      "cell_type": "code",
      "execution_count": null,
      "metadata": {
        "id": "RZYG4uA2iWtf",
        "outputId": "874862fd-b7c7-4bfc-c25e-c19a89cd3aa0"
      },
      "outputs": [
        {
          "name": "stdout",
          "output_type": "stream",
          "text": [
            "Generando predicciones del modelo 1 \n",
            "Generando predicciones del modelo 2 \n",
            "Generando predicciones del modelo 3 \n",
            "Generando predicciones del modelo 4 \n",
            "Generando predicciones del modelo 5 \n"
          ]
        }
      ],
      "source": [
        "# datos sin clase\n",
        "dfuture <- dataset[foto_mes %in% PARAM$future]\n",
        "\n",
        "# matriz de entrada\n",
        "X_future <- data.matrix(dfuture[, campos_buenos, with = FALSE])\n",
        "\n",
        "# lista para guardar predicciones\n",
        "predicciones <- list()\n",
        "\n",
        "for (i in seq_along(modelos)) {\n",
        "  cat(\"Generando predicciones del modelo\", i, \"\\n\")\n",
        "  predicciones[[i]] <- predict(modelos[[i]], X_future)\n",
        "}\n",
        "\n",
        "# Convertir a data.table con todas las predicciones\n",
        "tb_prediccion <- data.table(\n",
        "  numero_de_cliente = dfuture$numero_de_cliente,\n",
        "  foto_mes = dfuture$foto_mes\n",
        ")\n",
        "\n",
        "# agregar columnas con cada predicción\n",
        "for (i in seq_along(predicciones)) {\n",
        "  tb_prediccion[, paste0(\"prob_modelo_\", i) := predicciones[[i]]]\n",
        "}\n",
        "\n",
        "# Tabla de predicciones\n",
        "# guardar resultados\n",
        "fwrite(tb_prediccion, file = \"predicciones_multimodelo_final.txt\", sep = \"\\t\")"
      ]
    },
    {
      "cell_type": "code",
      "execution_count": null,
      "metadata": {
        "id": "HZ9-9bhRiiZu"
      },
      "outputs": [],
      "source": [
        "# Promedio de predicciones\n",
        "prediccion_promedio <- Reduce(\"+\", predicciones) / length(predicciones)\n",
        "\n",
        "# tabla final\n",
        "tb_prediccion <- dfuture[, .(numero_de_cliente, foto_mes)]\n",
        "tb_prediccion[, prob := prediccion_promedio]\n",
        "\n",
        "# guardar archivo final\n",
        "fwrite(tb_prediccion, file = \"prediccion_ensemble_final.txt\", sep = \"\\t\")"
      ]
    },
    {
      "cell_type": "code",
      "execution_count": null,
      "metadata": {
        "id": "SUjXwCGQionH"
      },
      "outputs": [],
      "source": [
        "# ordeno por probabilidad descendente\n",
        "setorder(tb_prediccion, -prob)\n",
        "\n",
        "dir.create(\"kaggle_final\")\n",
        "\n",
        "for (envios in PARAM$cortes) {\n",
        "\n",
        "  tb_prediccion[, Predicted := 0L] # seteo inicial a 0\n",
        "  tb_prediccion[1:envios, Predicted := 1L] # marco los primeros\n",
        "\n",
        "  archivo_kaggle <- paste0(\"./kaggle_final/KA\", PARAM$experimento, \"_\", envios, \".csv\")\n",
        "\n",
        "  # grabo el archivo\n",
        "  fwrite(tb_prediccion[, list(numero_de_cliente, Predicted)],\n",
        "    file= archivo_kaggle,\n",
        "    sep= \",\"\n",
        "  )\n",
        "\n",
        "  # res <- realidad_evaluar( drealidad, tb_prediccion)\n",
        "\n",
        "  # options(scipen = 999)\n",
        "  # cat( \"Envios=\", envios, \"\\t\",\n",
        "  #   \" TOTAL=\", res$total,\n",
        "  #   \"  Public=\", res$public,\n",
        "  #   \" Private=\", res$private,\n",
        "  #   \"\\n\",\n",
        "  #   sep= \"\"\n",
        "  # )\n",
        "\n",
        "}"
      ]
    },
    {
      "cell_type": "code",
      "execution_count": null,
      "metadata": {
        "id": "9fIPFmW9P3Po"
      },
      "outputs": [],
      "source": []
    }
  ],
  "metadata": {
    "colab": {
      "provenance": []
    },
    "kernelspec": {
      "display_name": "R",
      "language": "R",
      "name": "ir"
    },
    "language_info": {
      "codemirror_mode": "r",
      "file_extension": ".r",
      "mimetype": "text/x-r-source",
      "name": "R",
      "pygments_lexer": "r",
      "version": "4.5.1"
    }
  },
  "nbformat": 4,
  "nbformat_minor": 0
}